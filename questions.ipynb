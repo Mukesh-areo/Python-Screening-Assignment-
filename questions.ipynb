{
 "cells": [
  {
   "cell_type": "code",
   "execution_count": 1,
   "id": "34c01940",
   "metadata": {},
   "outputs": [
    {
     "name": "stdout",
     "output_type": "stream",
     "text": [
      "34\n",
      "Area of the Equialateral Traingle= 499.97\n"
     ]
    }
   ],
   "source": [
    "#1--area of an equialateral traiangle\n",
    "length=float(input())\n",
    "Area=(1.73*length*length)/4\n",
    "print(\"Area of the Equialateral Traingle=\",Area)"
   ]
  },
  {
   "cell_type": "code",
   "execution_count": 2,
   "id": "8fa6883c",
   "metadata": {},
   "outputs": [
    {
     "name": "stdout",
     "output_type": "stream",
     "text": [
      "oddsum= 12\n",
      "evenproduct= 12\n",
      "difference between the product of its even digits and the sum of its odd digits= 0\n"
     ]
    }
   ],
   "source": [
    "#2--Given an integer number n, return the difference between the product of its even digits and the sum of its odd digits.\n",
    "s=2468\n",
    "numstr=str(s)\n",
    "oddsum=0\n",
    "evenprod=1\n",
    "for i in range(len(numstr)):\n",
    "    if i%2==0:\n",
    "        evenprod*=int(numstr[i])\n",
    "       # print(numstr[i])\n",
    "    else:\n",
    "        oddsum+=int(numstr[i])\n",
    "        #print(numstr[i])\n",
    "print(\"oddsum=\",oddsum)\n",
    "print(\"evenproduct=\",evenprod)\n",
    "print(\"difference between the product of its even digits and the sum of its odd digits=\",evenprod-oddsum)\n",
    "    "
   ]
  },
  {
   "cell_type": "code",
   "execution_count": 3,
   "id": "9b4e14b9",
   "metadata": {},
   "outputs": [
    {
     "name": "stdout",
     "output_type": "stream",
     "text": [
      "Enter the value12 23 12\n"
     ]
    },
    {
     "data": {
      "text/plain": [
       "['12', '23', '12']"
      ]
     },
     "execution_count": 3,
     "metadata": {},
     "output_type": "execute_result"
    }
   ],
   "source": [
    "#--3 Take input from the user in one line and the output should be a list.\n",
    "inputlist=list((input('Enter the value').split()))\n",
    "inputlist\n",
    "#list_=[]\n",
    "#list_.append(inputlist)\n",
    "#list_"
   ]
  },
  {
   "cell_type": "code",
   "execution_count": 4,
   "id": "468b0c51",
   "metadata": {},
   "outputs": [
    {
     "name": "stdout",
     "output_type": "stream",
     "text": [
      "The number of days he can go out in the month of August--- 15 days\n"
     ]
    }
   ],
   "source": [
    "# --4.Avnish is allowed to go out with his friends only on the even days of a given month. Write a program to count the number of days he can go out in the month of August.\n",
    "s=0\n",
    "for i in range(1,32):\n",
    "    if i%2==0:\n",
    "        s=s+1\n",
    "print('The number of days he can go out in the month of August---',s,'days')"
   ]
  },
  {
   "cell_type": "code",
   "execution_count": 5,
   "id": "6ebf2ba9",
   "metadata": {},
   "outputs": [],
   "source": [
    "#--4Write a program to print the sum of negative numbers, sum of positive even numbers and the sum of positive odd numbers from a list of numbers (N) entered by the user. The list terminates when the user enters a zero.\n",
    "def lisnum(ls):\n",
    "    sum_of_neg_num=0\n",
    "    pos_evn_num=0\n",
    "    pos_odd_num=0\n",
    "    for i in ls:\n",
    "        if i==0:\n",
    "            break\n",
    "        if i<0:\n",
    "            sum_of_neg_num+=i\n",
    "        elif (i%2==0)&(i>0):\n",
    "            pos_evn_num+=i\n",
    "        elif (i%2!=0)&(i>0):\n",
    "            pos_odd_num+=i\n",
    "    return(sum_of_neg_num,pos_evn_num,pos_odd_num)"
   ]
  },
  {
   "cell_type": "code",
   "execution_count": 6,
   "id": "ce2adf3e",
   "metadata": {},
   "outputs": [
    {
     "data": {
      "text/plain": [
       "(0, 6, 4)"
      ]
     },
     "execution_count": 6,
     "metadata": {},
     "output_type": "execute_result"
    }
   ],
   "source": [
    "l=[1,2,3,4,0,-1,-3]\n",
    "lisnum(l)"
   ]
  },
  {
   "cell_type": "code",
   "execution_count": 7,
   "id": "2f7f0ec6",
   "metadata": {},
   "outputs": [
    {
     "name": "stdout",
     "output_type": "stream",
     "text": [
      "permutations\n",
      "(2, 3, 4)\n",
      "(2, 4, 3)\n",
      "(3, 2, 4)\n",
      "(3, 4, 2)\n",
      "(4, 2, 3)\n",
      "(4, 3, 2)\n",
      "------------\n",
      "combinations\n",
      "(1, 2)\n",
      "(1, 3)\n",
      "(2, 3)\n"
     ]
    }
   ],
   "source": [
    "#--5 Implement permutations(Npr) and combinations(Ncr).\n",
    "from itertools import permutations,combinations\n",
    "permut=permutations([2,3,4])\n",
    "combi=combinations([1,2,3],2)\n",
    "print('permutations')  \n",
    "for i in permut:\n",
    "    print(i)\n",
    "  \n",
    "print('------------')\n",
    "print('combinations')  \n",
    "for j in list(combi):\n",
    "    print(j)"
   ]
  },
  {
   "cell_type": "code",
   "execution_count": 8,
   "id": "a68ede11",
   "metadata": {},
   "outputs": [],
   "source": [
    "#--6 A Person is eligible to vote if his/her age is greater than or equal to 18. Define a method to find out if he/she is eligible to vote. Check whether Anand can vote or not.\n",
    "\n",
    "def voteeligibility(age):\n",
    "    if age>=18:\n",
    "        print(\"The Person is eligible to vote\")\n",
    "    else:\n",
    "        print(\"The Person is not eligible\")"
   ]
  },
  {
   "cell_type": "code",
   "execution_count": 9,
   "id": "3f845a6f",
   "metadata": {},
   "outputs": [
    {
     "name": "stdout",
     "output_type": "stream",
     "text": [
      "The Person is eligible to vote\n"
     ]
    }
   ],
   "source": [
    "voteeligibility(23)"
   ]
  },
  {
   "cell_type": "code",
   "execution_count": 5,
   "id": "3ed9b4c6",
   "metadata": {},
   "outputs": [
    {
     "name": "stdout",
     "output_type": "stream",
     "text": [
      "          1 \n",
      "        1 3 1 \n",
      "      1 3 5 3 1 \n",
      "    1 3 5 7 5 3 1 \n",
      "  1 3 5 7 9 7 5 3 1 \n"
     ]
    }
   ],
   "source": [
    "#--7 Pattern Printing\n",
    "n = 5 \n",
    "for i in range(n): \n",
    "  p=1\n",
    "  for j in range(i, n): \n",
    "     print(' ', end=' ') \n",
    "  for j in range(i):\n",
    "     print(p, end=' ')\n",
    "     p+=2\n",
    "  for j in range(i+1):\n",
    "     print(p, end=' ')\n",
    "     p-=2\n",
    "  print()"
   ]
  },
  {
   "cell_type": "code",
   "execution_count": 7,
   "id": "1dff6aa7",
   "metadata": {},
   "outputs": [
    {
     "name": "stdout",
     "output_type": "stream",
     "text": [
      "Current Letter : P\n",
      "Current Letter : y\n",
      "Current Letter : t\n"
     ]
    }
   ],
   "source": [
    "for letter in 'Python':     # First Example\n",
    "   if letter == 'h':\n",
    "      break\n",
    "   print ('Current Letter :', letter)"
   ]
  },
  {
   "cell_type": "code",
   "execution_count": 9,
   "id": "782a85a3",
   "metadata": {},
   "outputs": [
    {
     "name": "stdout",
     "output_type": "stream",
     "text": [
      "Current Letter : P\n",
      "Current Letter : y\n",
      "Current Letter : t\n",
      "Current Letter : o\n",
      "Current Letter : n\n"
     ]
    }
   ],
   "source": [
    "for letter in 'Python':     # First Example\n",
    "   if letter == 'h':\n",
    "      continue\n",
    "   print('Current Letter :', letter)\n"
   ]
  },
  {
   "cell_type": "code",
   "execution_count": 11,
   "id": "81f7f494",
   "metadata": {},
   "outputs": [
    {
     "name": "stdout",
     "output_type": "stream",
     "text": [
      "          1 \n",
      "        2 2 2 \n",
      "      3 3 3 3 3 \n",
      "    4 4 4 4 4 4 4 \n",
      "  5 5 5 5 5 5 5 5 5 \n",
      "    4 4 4 4 4 4 4 \n",
      "      3 3 3 3 3 \n",
      "        2 2 2 \n",
      "          1 \n"
     ]
    }
   ],
   "source": [
    "#8--pattern Printing\n",
    "n=5\n",
    "p=1\n",
    "for i in range (n-1):\n",
    "    for j in range (i,n):\n",
    "        print (' ', end = ' ')\n",
    "    for j in range (i):\n",
    "        print (p, end = ' ')   \n",
    "    for j in range (i+1):\n",
    "        print (p, end = ' ')   \n",
    "    p+=1\n",
    "    print()  \n",
    "for i in range (n):\n",
    "    for j in range (i+1):\n",
    "        print (' ', end = ' ')\n",
    "    for j in range (i,n-1):\n",
    "        print (p, end = ' ')   \n",
    "    for j in range (i,n):\n",
    "        print (p, end = ' ')   \n",
    "    p-=1\n",
    "    print()"
   ]
  },
  {
   "cell_type": "code",
   "execution_count": 12,
   "id": "172959d2",
   "metadata": {},
   "outputs": [
    {
     "name": "stdout",
     "output_type": "stream",
     "text": [
      "\n",
      "*\n",
      "**\n",
      "***\n",
      "****\n",
      "*****\n",
      "****\n",
      "***\n",
      "**\n",
      "*\n"
     ]
    }
   ],
   "source": [
    "#9--pattern printing\n",
    "n=5\n",
    "for i in range(n):\n",
    "    for j in range(i):\n",
    "        print('*',end=\"\")\n",
    "    print()\n",
    "for i in range(n):\n",
    "    for j in range(i,n):\n",
    "        print('*',end=\"\")\n",
    "    print()"
   ]
  },
  {
   "cell_type": "code",
   "execution_count": 68,
   "id": "2356377b",
   "metadata": {},
   "outputs": [],
   "source": [
    "#10--Write a python program to print only the integers from the given list \n",
    "#input : l=[['a','b','c'],[[4],1,2,'c']]\n",
    "#output : 4,1,2\n",
    "l=[['a','b','c'],[[4],1,2,'c']]\n",
    "j=[]\n",
    "for i in l:\n",
    "    for j in i:\n",
    "        if type(j)==list:\n",
    "            if type(j)==int:\n",
    "                print(j)\n",
    "        \n",
    "        \n"
   ]
  },
  {
   "cell_type": "code",
   "execution_count": 71,
   "id": "7487bb12",
   "metadata": {},
   "outputs": [
    {
     "data": {
      "text/plain": [
       "4"
      ]
     },
     "execution_count": 71,
     "metadata": {},
     "output_type": "execute_result"
    }
   ],
   "source": [
    "l[1][0][0]"
   ]
  },
  {
   "cell_type": "code",
   "execution_count": 43,
   "id": "61dabebc",
   "metadata": {},
   "outputs": [
    {
     "name": "stdout",
     "output_type": "stream",
     "text": [
      "4\n",
      "1\n",
      "2\n"
     ]
    }
   ],
   "source": [
    "for i in range(len(l)):\n",
    "    for j in range(len(l[i])):\n",
    "        if type(l[i][j]) == list:\n",
    "            if type(l[i][j][0]) == int:\n",
    "                print(l[i][j][0])\n",
    "        if type(l[i][j]) == int:\n",
    "            print(l[i][j])"
   ]
  },
  {
   "cell_type": "code",
   "execution_count": 14,
   "id": "65ff87b9",
   "metadata": {},
   "outputs": [
    {
     "name": "stdout",
     "output_type": "stream",
     "text": [
      "a\n",
      "b\n",
      "c\n",
      "[4]\n",
      "1\n",
      "2\n",
      "c\n"
     ]
    }
   ],
   "source": [
    "for i in range(len(l)):\n",
    "    for j in range(len(l[i])):\n",
    "            print(l[i][j])\n",
    "    "
   ]
  },
  {
   "cell_type": "code",
   "execution_count": 15,
   "id": "27a7a42c",
   "metadata": {},
   "outputs": [
    {
     "name": "stdout",
     "output_type": "stream",
     "text": [
      "ani\n"
     ]
    }
   ],
   "source": [
    "#11--Write a program to check whether any given 2 strings have the same characters.\n",
    "#Input : S1 = cat\n",
    "#S2 = tac\n",
    "#Output: contains the same characters\n",
    "\n",
    "string1='mani'\n",
    "string2='kannia'\n",
    "s=''\n",
    "for i in string1:\n",
    "    if i in string2:\n",
    "        s=s+i\n",
    "print(s)"
   ]
  },
  {
   "cell_type": "code",
   "execution_count": 16,
   "id": "1e615c2d",
   "metadata": {},
   "outputs": [
    {
     "name": "stdout",
     "output_type": "stream",
     "text": [
      "Mean 1,Median 2, Mode 31\n",
      "[34, 45, 65, 76, 78, 778]\n",
      "179.33333333333334\n"
     ]
    }
   ],
   "source": [
    "#12-- Write a program to implement mean, median, and mode without using python inbuilt functions.\n",
    "operation=int(input('Mean 1,Median 2, Mode 3'))\n",
    "list_=[34,45,65,76,778,78]\n",
    "len_list=len(list_)\n",
    "list_.sort()\n",
    "print(list_)\n",
    "if operation==1:\n",
    "    sum_list=sum(list_)\n",
    "    mean=sum_list/len_list\n",
    "    print(mean)\n",
    "    \n",
    "elif operation==2:\n",
    "    \n",
    "    if len_list%2==0:\n",
    "        median1=list_[len_list//2]\n",
    "        median2=list_[len_list//2-1]\n",
    "        median=(median1+median2)/2\n",
    "        print(median)\n",
    "    else:\n",
    "        median=list_[len_list//2]\n",
    "        print(median)\n",
    "        \n",
    "elif operation==3:\n",
    "    list_sort=list_.sort()\n",
    "    l=[]\n",
    "    i=0\n",
    "    while i<len(list_):\n",
    "        l.append(list_.count(list_[i]))\n",
    "        i+=1\n",
    "    d1=dict(zip(list_,l))\n",
    "    d2={k for (k,v) in d1.items() if v == max(l) }\n",
    "  \n",
    "    print(\"Mode(s) is/are :\" + str(d2))\n",
    "    \n",
    "    "
   ]
  },
  {
   "cell_type": "code",
   "execution_count": 17,
   "id": "65d787d1",
   "metadata": {},
   "outputs": [
    {
     "name": "stdout",
     "output_type": "stream",
     "text": [
      "15.333333333333334\n"
     ]
    }
   ],
   "source": [
    "list_=[23,34,12,23]\n",
    "sum_list=sum(list_)\n",
    "mean=sum_list/len_list\n",
    "print(mean)"
   ]
  },
  {
   "cell_type": "code",
   "execution_count": 18,
   "id": "a81a8d43",
   "metadata": {},
   "outputs": [
    {
     "name": "stdout",
     "output_type": "stream",
     "text": [
      "23.0\n"
     ]
    }
   ],
   "source": [
    "len_list=len(list_)\n",
    "if len_list%2==0:\n",
    "    median1=list_[len_list//2]\n",
    "    median2=list_[len_list//2-1]\n",
    "    median=(median1+median2)/2\n",
    "    print(median)\n",
    "else:\n",
    "    median=list_sort[len_list//2]\n",
    "    print(median)"
   ]
  },
  {
   "cell_type": "code",
   "execution_count": 19,
   "id": "b9e915d6",
   "metadata": {},
   "outputs": [
    {
     "name": "stdout",
     "output_type": "stream",
     "text": [
      "[1, 2, 2, 2, 4, 4, 5, 5]\n",
      "Mode(s) is/are :{2}\n"
     ]
    }
   ],
   "source": [
    "list1=[1,5,2,4,2,5,2,4]\n",
    "list1.sort()\n",
    "print(list1)\n",
    "l=[]\n",
    "i=0\n",
    "while i<len(list1):\n",
    "    l.append(list1.count(list1[i]))\n",
    "    i+=1\n",
    "d1=dict(zip(list1,l))\n",
    "d2={k for (k,v) in d1.items() if v == max(l) }\n",
    "  \n",
    "print(\"Mode(s) is/are :\" + str(d2))"
   ]
  },
  {
   "cell_type": "code",
   "execution_count": 20,
   "id": "62d6179d",
   "metadata": {},
   "outputs": [
    {
     "data": {
      "text/plain": [
       "[1, 2, 2, 2, 4, 4, 5, 5]"
      ]
     },
     "execution_count": 20,
     "metadata": {},
     "output_type": "execute_result"
    }
   ],
   "source": [
    "list1=[1,5,2,4,2,5,2,4]\n",
    "list1.sort()\n",
    "list1"
   ]
  },
  {
   "cell_type": "code",
   "execution_count": 23,
   "id": "d7768bf6",
   "metadata": {},
   "outputs": [
    {
     "data": {
      "text/plain": [
       "[67, 45657, 5, 34, 12]"
      ]
     },
     "execution_count": 23,
     "metadata": {},
     "output_type": "execute_result"
    }
   ],
   "source": [
    "#--13 Write a program to reverse a list without using the python inbuilt function.\n",
    "l=[12,34,5,45657,67]\n",
    "l[::-1]"
   ]
  },
  {
   "cell_type": "code",
   "execution_count": 72,
   "id": "680a9943",
   "metadata": {},
   "outputs": [
    {
     "name": "stdout",
     "output_type": "stream",
     "text": [
      "1\n",
      "0\n",
      "1\n",
      "2\n",
      "6\n",
      "2\n",
      "3\n",
      "8\n",
      "3\n",
      "[0, 6, 8, 4, 3, 2, 1]\n"
     ]
    }
   ],
   "source": [
    "list1 = [1, 2, 3, 4,8,6,0]\n",
    "L = len(list1)\n",
    "\n",
    "for i in range(int(L / 2)):\n",
    "    n = list1[i]\n",
    "    print(n)\n",
    "    list1[i] = list1[L - i - 1]\n",
    "    print(list1[i] )\n",
    "    list1[L - i - 1] = n\n",
    "    print(list1[L - i - 1])\n",
    "\n",
    "print(list1)"
   ]
  },
  {
   "cell_type": "code",
   "execution_count": 73,
   "id": "53a54d97",
   "metadata": {},
   "outputs": [
    {
     "data": {
      "text/plain": [
       "range(0, 10)"
      ]
     },
     "execution_count": 73,
     "metadata": {},
     "output_type": "execute_result"
    }
   ],
   "source": [
    "range(10)"
   ]
  },
  {
   "cell_type": "code",
   "execution_count": 56,
   "id": "a43036d4",
   "metadata": {},
   "outputs": [
    {
     "name": "stdout",
     "output_type": "stream",
     "text": [
      "ham\n",
      "spam\n",
      "spam\n"
     ]
    }
   ],
   "source": [
    "spam =0\n",
    "if spam == 10:\n",
    "    print('eggs')\n",
    "    if spam > 5:\n",
    "        print('bacon')\n",
    "else:\n",
    "    print('ham')\n",
    "    print('spam')\n",
    "    print('spam')"
   ]
  },
  {
   "cell_type": "code",
   "execution_count": 61,
   "id": "df70c8ad",
   "metadata": {},
   "outputs": [],
   "source": [
    "n = [[1,2,3,4],(2,3,4,5,6),(3,4,5,6,7) , set([23,4,5,45,4,4,45,45,4,5]),{'k1':\"sudh\" , \"k2\":\"ineuron\" , \"k3\":\"kumar\" , 3:6 , 7:8} , [\"ineuron\" , \"data science\"]]"
   ]
  },
  {
   "cell_type": "code",
   "execution_count": 60,
   "id": "28b939df",
   "metadata": {},
   "outputs": [
    {
     "data": {
      "text/plain": [
       "list"
      ]
     },
     "execution_count": 60,
     "metadata": {},
     "output_type": "execute_result"
    }
   ],
   "source": [
    "type(l)"
   ]
  },
  {
   "cell_type": "code",
   "execution_count": 65,
   "id": "44909010",
   "metadata": {},
   "outputs": [
    {
     "name": "stdout",
     "output_type": "stream",
     "text": [
      "1\n",
      "2\n",
      "3\n",
      "4\n",
      "2\n",
      "3\n",
      "4\n",
      "5\n",
      "6\n",
      "3\n",
      "4\n",
      "5\n",
      "6\n",
      "7\n"
     ]
    },
    {
     "ename": "TypeError",
     "evalue": "'set' object is not subscriptable",
     "output_type": "error",
     "traceback": [
      "\u001b[1;31m---------------------------------------------------------------------------\u001b[0m",
      "\u001b[1;31mTypeError\u001b[0m                                 Traceback (most recent call last)",
      "Input \u001b[1;32mIn [65]\u001b[0m, in \u001b[0;36m<cell line: 1>\u001b[1;34m()\u001b[0m\n\u001b[0;32m      1\u001b[0m \u001b[38;5;28;01mfor\u001b[39;00m i \u001b[38;5;129;01min\u001b[39;00m \u001b[38;5;28mrange\u001b[39m(\u001b[38;5;28mlen\u001b[39m(n)):\n\u001b[0;32m      2\u001b[0m     \u001b[38;5;28;01mfor\u001b[39;00m j \u001b[38;5;129;01min\u001b[39;00m \u001b[38;5;28mrange\u001b[39m(\u001b[38;5;28mlen\u001b[39m(n[i])):\n\u001b[1;32m----> 3\u001b[0m         \u001b[38;5;28;01mif\u001b[39;00m \u001b[38;5;28mtype\u001b[39m(\u001b[43mn\u001b[49m\u001b[43m[\u001b[49m\u001b[43mi\u001b[49m\u001b[43m]\u001b[49m\u001b[43m[\u001b[49m\u001b[43mj\u001b[49m\u001b[43m]\u001b[49m) \u001b[38;5;241m==\u001b[39m \u001b[38;5;28mlist\u001b[39m:\n\u001b[0;32m      4\u001b[0m             \u001b[38;5;28;01mif\u001b[39;00m \u001b[38;5;28mtype\u001b[39m(n[i][j][\u001b[38;5;241m0\u001b[39m]) \u001b[38;5;241m==\u001b[39m \u001b[38;5;28mint\u001b[39m:\n\u001b[0;32m      5\u001b[0m                 \u001b[38;5;28mprint\u001b[39m(n[i][j][\u001b[38;5;241m0\u001b[39m])\n",
      "\u001b[1;31mTypeError\u001b[0m: 'set' object is not subscriptable"
     ]
    }
   ],
   "source": [
    "for i in range(len(n)):\n",
    "    for j in range(len(n[i])):\n",
    "        if type(n[i][j]) == list:\n",
    "            if type(n[i][j][0]) == int:\n",
    "                print(n[i][j][0])\n",
    "        if type(n[i][j]) == int:\n",
    "            print(n[i][j])"
   ]
  },
  {
   "cell_type": "code",
   "execution_count": 74,
   "id": "46bfd133",
   "metadata": {},
   "outputs": [
    {
     "data": {
      "text/plain": [
       "6"
      ]
     },
     "execution_count": 74,
     "metadata": {},
     "output_type": "execute_result"
    }
   ],
   "source": [
    "12//2"
   ]
  },
  {
   "cell_type": "code",
   "execution_count": 75,
   "id": "107b8153",
   "metadata": {},
   "outputs": [
    {
     "data": {
      "text/plain": [
       "5"
      ]
     },
     "execution_count": 75,
     "metadata": {},
     "output_type": "execute_result"
    }
   ],
   "source": [
    "6-1"
   ]
  },
  {
   "cell_type": "code",
   "execution_count": 76,
   "id": "63b6c22a",
   "metadata": {},
   "outputs": [
    {
     "name": "stdout",
     "output_type": "stream",
     "text": [
      "3\n",
      "5\n",
      "7\n",
      "9\n",
      "11\n",
      "13\n",
      "15\n",
      "17\n",
      "19\n",
      "21\n",
      "23\n",
      "25\n",
      "27\n",
      "29\n",
      "31\n",
      "33\n",
      "35\n",
      "37\n",
      "39\n",
      "41\n",
      "43\n",
      "45\n",
      "47\n",
      "49\n",
      "51\n",
      "53\n",
      "55\n",
      "57\n",
      "59\n",
      "61\n",
      "63\n",
      "65\n",
      "67\n",
      "69\n",
      "71\n",
      "73\n",
      "75\n",
      "77\n",
      "79\n",
      "81\n",
      "83\n",
      "85\n",
      "87\n",
      "89\n",
      "91\n",
      "93\n",
      "95\n",
      "97\n",
      "99\n"
     ]
    }
   ],
   "source": [
    "\n",
    "for num in range(1, 101):\n",
    "    for i in range(2, num):\n",
    "        if num % i == 0:\n",
    "            break\n",
    "        else:\n",
    "            print(num)\n",
    "            break"
   ]
  },
  {
   "cell_type": "code",
   "execution_count": 83,
   "id": "ea8e888a",
   "metadata": {},
   "outputs": [],
   "source": [
    "l1=[12,23]\n",
    "l2=['a','b']\n",
    "l3=dict(zip(l2,l1))"
   ]
  },
  {
   "cell_type": "code",
   "execution_count": 84,
   "id": "8ae5aaa4",
   "metadata": {},
   "outputs": [
    {
     "data": {
      "text/plain": [
       "{'a': 12, 'b': 23}"
      ]
     },
     "execution_count": 84,
     "metadata": {},
     "output_type": "execute_result"
    }
   ],
   "source": [
    "l3"
   ]
  },
  {
   "cell_type": "code",
   "execution_count": 90,
   "id": "1ac6cdea",
   "metadata": {},
   "outputs": [],
   "source": [
    "class Father:\n",
    "  def __init__(self):\n",
    "    print('You are in Father Class Constructor')\n",
    "   \n",
    "  def show(self):\n",
    "    print(\"Father Class instance Method\")\n",
    "         \n",
    "class Mother:\n",
    "  def __init__(self):\n",
    "    print(\"You are in Mother Class Constructor\")\n",
    "   \n",
    "  def show1(self):\n",
    "    print(\"Mother Class instance Method\")\n",
    "         \n",
    "class Son(Father, Mother):\n",
    "    def __init__(self):\n",
    "        print(\"You are in Son Class Constructor\")"
   ]
  },
  {
   "cell_type": "code",
   "execution_count": 93,
   "id": "7c7181e4",
   "metadata": {},
   "outputs": [
    {
     "name": "stdout",
     "output_type": "stream",
     "text": [
      "You are in Son Class Constructor\n",
      "Father Class instance Method\n"
     ]
    }
   ],
   "source": [
    "sys=Son()\n",
    "sys.show()"
   ]
  },
  {
   "cell_type": "code",
   "execution_count": 106,
   "id": "d949a77d",
   "metadata": {},
   "outputs": [
    {
     "name": "stdout",
     "output_type": "stream",
     "text": [
      "s\n",
      "d\n",
      "q\n",
      "k\n",
      "n\n",
      "k\n"
     ]
    }
   ],
   "source": [
    "s=\"sdqknk\"\n",
    "for i in s:\n",
    "    \n",
    "        \n",
    "    "
   ]
  },
  {
   "cell_type": "code",
   "execution_count": 111,
   "id": "989087e3",
   "metadata": {},
   "outputs": [],
   "source": [
    "def remove(string, i):\n",
    "    # Characters before the i-th indexed\n",
    "    # is stored in a variable a\n",
    "    a = string[0 : i] \n",
    "    print(a)\n",
    "    # Characters after the nth indexed\n",
    "    # is stored in a variable b\n",
    "    b = string[i + 1: ]\n",
    "    print(b)\n",
    "    # Returning string after removing\n",
    "    # nth indexed character.\n",
    "    return a + b"
   ]
  },
  {
   "cell_type": "code",
   "execution_count": 112,
   "id": "7fb9523a",
   "metadata": {},
   "outputs": [
    {
     "name": "stdout",
     "output_type": "stream",
     "text": [
      "mu\n",
      "esh\n"
     ]
    },
    {
     "data": {
      "text/plain": [
       "'muesh'"
      ]
     },
     "execution_count": 112,
     "metadata": {},
     "output_type": "execute_result"
    }
   ],
   "source": [
    "a='mukesh'\n",
    "b=2\n",
    "remove(a,b)\n"
   ]
  },
  {
   "cell_type": "code",
   "execution_count": 113,
   "id": "772a0a34",
   "metadata": {},
   "outputs": [
    {
     "name": "stdout",
     "output_type": "stream",
     "text": [
      "1\n",
      "4\n",
      "5\n"
     ]
    }
   ],
   "source": [
    "#Write a program to concatenate strings using for Loop.\n",
    "s=[1,2,3,4,5]\n",
    "s1=[4,5,6,1]\n",
    "for i in s:\n",
    "    if i in s1:\n",
    "        print(i)\n"
   ]
  },
  {
   "cell_type": "code",
   "execution_count": 118,
   "id": "fac10201",
   "metadata": {},
   "outputs": [
    {
     "name": "stdout",
     "output_type": "stream",
     "text": [
      "A.issuperset(B) :  False\n"
     ]
    }
   ],
   "source": [
    "A = {1, 2, 3}\n",
    "B = {1, 2, 3, 4, 5}\n",
    "C = {1, 2, 4, 5}\n",
    " \n",
    "print(\"A.issuperset(B) : \", C.issuperset(B))"
   ]
  },
  {
   "cell_type": "code",
   "execution_count": 119,
   "id": "702cc101",
   "metadata": {},
   "outputs": [
    {
     "name": "stdout",
     "output_type": "stream",
     "text": [
      "[114, 160, 60, 27]\n",
      "[74, 97, 73, 14]\n",
      "[119, 157, 112, 23]\n"
     ]
    }
   ],
   "source": [
    "# Program to multiply two matrices using nested loops\n",
    "\n",
    "# 3x3 matrix\n",
    "X = [[12,7,3],\n",
    "    [4 ,5,6],\n",
    "    [7 ,8,9]]\n",
    "# 3x4 matrix\n",
    "Y = [[5,8,1,2],\n",
    "    [6,7,3,0],\n",
    "    [4,5,9,1]]\n",
    "# result is 3x4\n",
    "result = [[0,0,0,0],\n",
    "         [0,0,0,0],\n",
    "         [0,0,0,0]]\n",
    "\n",
    "# iterate through rows of X\n",
    "for i in range(len(X)):\n",
    "   # iterate through columns of Y\n",
    "   for j in range(len(Y[0])):\n",
    "       # iterate through rows of Y\n",
    "       for k in range(len(Y)):\n",
    "           result[i][j] += X[i][k] * Y[k][j]\n",
    "\n",
    "for r in result:\n",
    "   print(r)\n"
   ]
  },
  {
   "cell_type": "code",
   "execution_count": 133,
   "id": "4330da21",
   "metadata": {},
   "outputs": [],
   "source": [
    "# factorial of the num\n",
    "def factorial(n):\n",
    "    if n<0:\n",
    "        return 0\n",
    "    elif n==1:\n",
    "        return 1\n",
    "    else:\n",
    "        fact=n*factorial(n-1)\n",
    "        return fact\n",
    "    "
   ]
  },
  {
   "cell_type": "code",
   "execution_count": 134,
   "id": "f009cb41",
   "metadata": {},
   "outputs": [
    {
     "data": {
      "text/plain": [
       "5040"
      ]
     },
     "execution_count": 134,
     "metadata": {},
     "output_type": "execute_result"
    }
   ],
   "source": [
    "factorial(7)"
   ]
  },
  {
   "cell_type": "code",
   "execution_count": 135,
   "id": "a80ce34d",
   "metadata": {},
   "outputs": [
    {
     "name": "stdout",
     "output_type": "stream",
     "text": [
      "200\n",
      "540\n",
      "TW=130 FW=70\n"
     ]
    }
   ],
   "source": [
    "v=int(input())\n",
    "w=int(input())\n",
    "if (w&1)==1 or w<2 or w<=v:\n",
    "    print(\"INVALID INPUT\")\n",
    "else:\n",
    "    x=((4*v) -w)//2\n",
    "    print(\"TW={0} FW={1}\".format(x,v-x))"
   ]
  },
  {
   "cell_type": "code",
   "execution_count": 139,
   "id": "ba52a870",
   "metadata": {},
   "outputs": [
    {
     "data": {
      "text/plain": [
       "130.0"
      ]
     },
     "execution_count": 139,
     "metadata": {},
     "output_type": "execute_result"
    }
   ],
   "source": [
    "260/2"
   ]
  },
  {
   "cell_type": "code",
   "execution_count": 147,
   "id": "f25eeb1e",
   "metadata": {},
   "outputs": [
    {
     "data": {
      "text/plain": [
       "True"
      ]
     },
     "execution_count": 147,
     "metadata": {},
     "output_type": "execute_result"
    }
   ],
   "source": [
    "(7&1)==1"
   ]
  },
  {
   "cell_type": "code",
   "execution_count": 148,
   "id": "530a0c0c",
   "metadata": {},
   "outputs": [
    {
     "name": "stdout",
     "output_type": "stream",
     "text": [
      "0\n"
     ]
    }
   ],
   "source": [
    "s=\"##**\"\n",
    "a=0\n",
    "b=0\n",
    "for i in s:\n",
    "    if i=='*':\n",
    "        a+=1\n",
    "    elif i=='#':\n",
    "        b+=1\n",
    "print(a-b)"
   ]
  },
  {
   "cell_type": "markdown",
   "id": "59a8b63f",
   "metadata": {},
   "source": [
    "# ***Factoraila of the num"
   ]
  },
  {
   "cell_type": "code",
   "execution_count": 153,
   "id": "4d42547d",
   "metadata": {},
   "outputs": [
    {
     "name": "stdout",
     "output_type": "stream",
     "text": [
      "1\n",
      "2\n",
      "6\n",
      "24\n",
      "120\n",
      "720\n",
      "5040\n"
     ]
    }
   ],
   "source": [
    "# Multiplication of series of no is known as Factorial no\n",
    "### Factorial of the num\n",
    "num=7\n",
    "fact=1\n",
    "for i in range(1,num+1):\n",
    "    fact=fact*i\n",
    "    print(fact)"
   ]
  },
  {
   "cell_type": "markdown",
   "id": "a048dde9",
   "metadata": {},
   "source": [
    "# Fibbonsci series"
   ]
  },
  {
   "cell_type": "code",
   "execution_count": 158,
   "id": "7d3b026a",
   "metadata": {},
   "outputs": [],
   "source": [
    "# sequence addidtion of num is fibbonacy series\n",
    "def fiboonaci(n):\n",
    "    if n==0:\n",
    "        return 0\n",
    "    if n==1:\n",
    "        return 1\n",
    "    else:\n",
    "        fibo=fiboonaci(n-1)+fiboonaci(n-2)\n",
    "        return(fibo)"
   ]
  },
  {
   "cell_type": "code",
   "execution_count": 161,
   "id": "9ca6bedb",
   "metadata": {},
   "outputs": [
    {
     "data": {
      "text/plain": [
       "34"
      ]
     },
     "execution_count": 161,
     "metadata": {},
     "output_type": "execute_result"
    }
   ],
   "source": [
    "fiboonaci(9)"
   ]
  },
  {
   "cell_type": "markdown",
   "id": "25f4d9dc",
   "metadata": {},
   "source": [
    "# Prime number\n"
   ]
  },
  {
   "cell_type": "code",
   "execution_count": 168,
   "id": "161d2150",
   "metadata": {},
   "outputs": [
    {
     "name": "stdout",
     "output_type": "stream",
     "text": [
      "2 3 5 7 "
     ]
    }
   ],
   "source": [
    "# a num which is divisible by itself and 1 is called prime no\n",
    "def prime(n):\n",
    "    if( n==0 or n==1):\n",
    "        return False\n",
    "    for i in range(2,n//2+1):\n",
    "        if n%i==0:\n",
    "            return False\n",
    "    else:\n",
    "        return True\n",
    "n=10\n",
    "for i in range(1,n+1):\n",
    "    if prime(i):\n",
    "        print(i,end=\" \")\n",
    "    "
   ]
  },
  {
   "cell_type": "code",
   "execution_count": 211,
   "id": "10752565",
   "metadata": {},
   "outputs": [
    {
     "name": "stdout",
     "output_type": "stream",
     "text": [
      "11 is an prime no\n"
     ]
    }
   ],
   "source": [
    "num=11\n",
    "if num>1:\n",
    "    for i in range(2,int(num/2)+1):\n",
    "        if num%i==0:\n",
    "            print(num,'is not a prime num')\n",
    "            break\n",
    "    else:\n",
    "        print(num,'is an prime no')\n",
    "else:\n",
    "    print(num,'Is not a prime no')"
   ]
  },
  {
   "cell_type": "markdown",
   "id": "b583c00a",
   "metadata": {},
   "source": [
    "# Amstrong no\n"
   ]
  },
  {
   "cell_type": "code",
   "execution_count": 173,
   "id": "04595f3d",
   "metadata": {},
   "outputs": [],
   "source": [
    "# A cube of digit of number and its sum\n",
    "def Amstrong(num):\n",
    "    sum_=0\n",
    "    temp=num\n",
    "    while(temp>0):\n",
    "        digit=temp%10\n",
    "        sum_+=digit**3\n",
    "        temp//=10\n",
    "    if num==sum_:\n",
    "        print(num,\"Is an Amstrong No\")\n",
    "    else:\n",
    "        print(num,\"IS not an Amstrong NO\")"
   ]
  },
  {
   "cell_type": "code",
   "execution_count": 174,
   "id": "471d3c01",
   "metadata": {},
   "outputs": [
    {
     "name": "stdout",
     "output_type": "stream",
     "text": [
      "153 Is an Amstrong No\n"
     ]
    }
   ],
   "source": [
    "Amstrong(153)"
   ]
  },
  {
   "cell_type": "markdown",
   "id": "650baf36",
   "metadata": {},
   "source": [
    "# Program to check the num is a binary are not (0,1 are binary)"
   ]
  },
  {
   "cell_type": "code",
   "execution_count": 253,
   "id": "9619016c",
   "metadata": {},
   "outputs": [
    {
     "name": "stdout",
     "output_type": "stream",
     "text": [
      "please give a number : 12\n",
      "num is not binary\n",
      "num is not binary\n"
     ]
    }
   ],
   "source": [
    "num = int(input(\"please give a number : \"))\n",
    "for i in range(len(str(num))):\n",
    "    j=int(num)%10\n",
    "    if j!=0 and j!=1:\n",
    "        print(\"num is not binary\")\n",
    "        \n",
    "    else:\n",
    "        print(\"num is binary\") "
   ]
  },
  {
   "cell_type": "code",
   "execution_count": 257,
   "id": "0fecc766",
   "metadata": {},
   "outputs": [
    {
     "name": "stdout",
     "output_type": "stream",
     "text": [
      "please give a number : 23\n",
      "num is not binary\n"
     ]
    }
   ],
   "source": [
    "num = int(input(\"please give a number : \"))\n",
    "while(num>0):\n",
    "    j=num%10\n",
    "    if j!=0 and j!=1:\n",
    "        print(\"num is not binary\")\n",
    "        break\n",
    "    num=num//10\n",
    "    if num==0:\n",
    "        print(\"num is binary\") "
   ]
  },
  {
   "cell_type": "markdown",
   "id": "5b24088b",
   "metadata": {},
   "source": [
    "# python program to swap 2 variable without  using 3rd variavle"
   ]
  },
  {
   "cell_type": "code",
   "execution_count": 259,
   "id": "292791ff",
   "metadata": {},
   "outputs": [
    {
     "name": "stdout",
     "output_type": "stream",
     "text": [
      "Enter the num A=12\n",
      "Enter the num B=23\n",
      "after swaping of A 23\n",
      "after swaping of B 12\n"
     ]
    }
   ],
   "source": [
    "#  without using 3rd variable\n",
    "a=int(input('Enter the num A='))\n",
    "b=int(input('Enter the num B='))\n",
    "a=a-b\n",
    "b=a+b\n",
    "a=b-a\n",
    "print('after swaping of A',a)\n",
    "print('after swaping of B',b)"
   ]
  },
  {
   "cell_type": "code",
   "execution_count": 262,
   "id": "c084c029",
   "metadata": {},
   "outputs": [
    {
     "name": "stdout",
     "output_type": "stream",
     "text": [
      "Enter the num A=12\n",
      "Enter the num B=23\n",
      "after swaping of A 23\n",
      "after swaping of B 12\n"
     ]
    }
   ],
   "source": [
    "# with third variable\n",
    "c=int(input('Enter the num A='))\n",
    "d=int(input('Enter the num B='))\n",
    "temp=c\n",
    "c=d\n",
    "d=temp\n",
    "print('after swaping of A',c)\n",
    "print('after swaping of B',d)"
   ]
  },
  {
   "cell_type": "markdown",
   "id": "190b3f29",
   "metadata": {},
   "source": [
    "# Replace the string "
   ]
  },
  {
   "cell_type": "code",
   "execution_count": 263,
   "id": "5e4c1a81",
   "metadata": {},
   "outputs": [
    {
     "data": {
      "text/plain": [
       "'mamaj'"
      ]
     },
     "execution_count": 263,
     "metadata": {},
     "output_type": "execute_result"
    }
   ],
   "source": [
    "s1='mamas'\n",
    "s1.replace('s','j')"
   ]
  },
  {
   "cell_type": "code",
   "execution_count": 267,
   "id": "7eef5f1b",
   "metadata": {},
   "outputs": [
    {
     "name": "stdout",
     "output_type": "stream",
     "text": [
      "Enter a character : 34\n",
      "Given Character  34 is a Digit\n"
     ]
    }
   ],
   "source": [
    "#taking input from user\n",
    "ch = input(\"Enter a character : \") \n",
    "if ch >= '0' and ch <= '9': #comparing the value of ‘ch’ \n",
    "\t# if the condition holds true then this block will execute\n",
    "    \tprint(\"Given Character \", ch, \"is a Digit\")\n",
    "else: #this block will execute if the condition will not satisfies\n",
    "    print(\"Given Character \", ch, \"is not a Digit\")"
   ]
  },
  {
   "cell_type": "code",
   "execution_count": 279,
   "id": "398b0992",
   "metadata": {},
   "outputs": [
    {
     "data": {
      "text/plain": [
       "True"
      ]
     },
     "execution_count": 279,
     "metadata": {},
     "output_type": "execute_result"
    }
   ],
   "source": [
    "'1'<='9'"
   ]
  },
  {
   "cell_type": "markdown",
   "id": "78d09297",
   "metadata": {},
   "source": [
    "### Palindrome"
   ]
  },
  {
   "cell_type": "code",
   "execution_count": null,
   "id": "4087c733",
   "metadata": {},
   "outputs": [],
   "source": []
  },
  {
   "cell_type": "code",
   "execution_count": 195,
   "id": "cc97d5e1",
   "metadata": {},
   "outputs": [],
   "source": [
    "\n",
    "\n",
    "def Palindrome(num):\n",
    "    rev=0\n",
    "    temp=num\n",
    "    while(num>0):\n",
    "        digit=num%10\n",
    "        rev=rev*10+digit\n",
    "        num=num//10\n",
    "    if temp==rev:\n",
    "        print(num,\"Is an Palindrome No\")\n",
    "    else:\n",
    "        print(num,\"IS not an Palindrome NO\")"
   ]
  },
  {
   "cell_type": "code",
   "execution_count": 196,
   "id": "6a434519",
   "metadata": {},
   "outputs": [
    {
     "name": "stdout",
     "output_type": "stream",
     "text": [
      "0 Is an Palindrome No\n"
     ]
    }
   ],
   "source": [
    "Palindrome(121)"
   ]
  },
  {
   "cell_type": "markdown",
   "id": "f3f1767b",
   "metadata": {},
   "source": [
    "# Leap year Check "
   ]
  },
  {
   "cell_type": "code",
   "execution_count": 201,
   "id": "7ac8a517",
   "metadata": {},
   "outputs": [
    {
     "name": "stdout",
     "output_type": "stream",
     "text": [
      "Enter the year:1996\n",
      "1996 Is a Leap Year\n"
     ]
    }
   ],
   "source": [
    "year=int(input('Enter the year:'))\n",
    "if (year%4==0 and year%100!=0 or year%400==0):\n",
    "    print(year,\"Is a Leap Year\")\n",
    "else:\n",
    "    print(\"not a Leap Year\")"
   ]
  },
  {
   "cell_type": "code",
   "execution_count": null,
   "id": "0940eaf5",
   "metadata": {},
   "outputs": [],
   "source": []
  },
  {
   "cell_type": "code",
   "execution_count": 203,
   "id": "1d3b2c9a",
   "metadata": {},
   "outputs": [
    {
     "data": {
      "text/plain": [
       "<re.Match object; span=(0, 17), match='The rain in Spain'>"
      ]
     },
     "execution_count": 203,
     "metadata": {},
     "output_type": "execute_result"
    }
   ],
   "source": [
    "import re\n",
    "\n",
    "txt = \"The rain in Spain\"\n",
    "x = re.search(\"^The.*Spain$\", txt)\n",
    "x"
   ]
  },
  {
   "cell_type": "code",
   "execution_count": 205,
   "id": "513951be",
   "metadata": {},
   "outputs": [
    {
     "name": "stdout",
     "output_type": "stream",
     "text": [
      "<re.Match object; span=(6, 7), match='f'>\n",
      "<re.Match object; span=(5, 6), match='.'>\n"
     ]
    }
   ],
   "source": [
    "s = 'geeks.forgeeks'\n",
    " \n",
    "# without using \\\n",
    "match = re.search(r'f', s)\n",
    "print(match)\n",
    " \n",
    "# using \\\n",
    "match = re.search(r'\\.', s)\n",
    "print(match)"
   ]
  },
  {
   "cell_type": "code",
   "execution_count": 206,
   "id": "53c2c755",
   "metadata": {},
   "outputs": [],
   "source": [
    "import pandas as pd\n"
   ]
  },
  {
   "cell_type": "code",
   "execution_count": null,
   "id": "314db718",
   "metadata": {},
   "outputs": [],
   "source": [
    "def getMth(M, L):\n",
    "    if M > len(L):\n",
    "        return 'NIL'\n",
    "    else:\n",
    "        return L[-M]\n",
    "   \n",
    "M = int(input())\n",
    "L = list(input().split())\n",
    "print(getMth(M, L))"
   ]
  },
  {
   "cell_type": "code",
   "execution_count": 290,
   "id": "09f82859",
   "metadata": {},
   "outputs": [
    {
     "name": "stdout",
     "output_type": "stream",
     "text": [
      "12 13 13\n"
     ]
    },
    {
     "data": {
      "text/plain": [
       "'13'"
      ]
     },
     "execution_count": 290,
     "metadata": {},
     "output_type": "execute_result"
    }
   ],
   "source": [
    "Li = list(input().strip().split())\n",
    "Li[-1]"
   ]
  },
  {
   "cell_type": "code",
   "execution_count": 293,
   "id": "35d424b0",
   "metadata": {},
   "outputs": [],
   "source": [
    "import sys\n",
    "\n",
    "def getFibonacci(num):\n",
    "    num1 = 0\n",
    "    num2 =1\n",
    "    if num == 0:\n",
    "        num2 = 0 \n",
    "    for i in range(1, num):\n",
    "        num3 = num1 + num2\n",
    "        num1 = num2\n",
    "        num2 = num3\n",
    "    return (num2)\n",
    "\n",
    "for num in sys.stdin:\n",
    "    print(getFibonacci(int(num)))\n",
    "    if int(num) <= -1:\n",
    "        break"
   ]
  },
  {
   "cell_type": "code",
   "execution_count": 294,
   "id": "a26d9abc",
   "metadata": {},
   "outputs": [
    {
     "data": {
      "text/plain": [
       "144"
      ]
     },
     "execution_count": 294,
     "metadata": {},
     "output_type": "execute_result"
    }
   ],
   "source": [
    "getFibonacci(12)"
   ]
  },
  {
   "cell_type": "code",
   "execution_count": null,
   "id": "092d6525",
   "metadata": {},
   "outputs": [],
   "source": []
  },
  {
   "cell_type": "code",
   "execution_count": null,
   "id": "bbc822c8",
   "metadata": {},
   "outputs": [],
   "source": []
  }
 ],
 "metadata": {
  "kernelspec": {
   "display_name": "Python 3 (ipykernel)",
   "language": "python",
   "name": "python3"
  },
  "language_info": {
   "codemirror_mode": {
    "name": "ipython",
    "version": 3
   },
   "file_extension": ".py",
   "mimetype": "text/x-python",
   "name": "python",
   "nbconvert_exporter": "python",
   "pygments_lexer": "ipython3",
   "version": "3.9.12"
  }
 },
 "nbformat": 4,
 "nbformat_minor": 5
}
